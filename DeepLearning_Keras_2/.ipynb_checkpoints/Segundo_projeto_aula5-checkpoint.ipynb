{
 "cells": [
  {
   "cell_type": "code",
   "execution_count": 1,
   "metadata": {
    "colab": {},
    "colab_type": "code",
    "id": "4bQCahYjYdUB"
   },
   "outputs": [],
   "source": [
    "import tensorflow\n",
    "from tensorflow import keras\n",
    "import matplotlib.pyplot as plt\n",
    "import numpy as np\n",
    "from tensorflow.keras.models import load_model"
   ]
  },
  {
   "cell_type": "markdown",
   "metadata": {
    "colab_type": "text",
    "id": "f8uuzUjVYvkf"
   },
   "source": [
    "# Carregando o dataset"
   ]
  },
  {
   "cell_type": "code",
   "execution_count": 2,
   "metadata": {
    "colab": {},
    "colab_type": "code",
    "id": "QoIys3wMYirH"
   },
   "outputs": [],
   "source": [
    "dataset = keras.datasets.fashion_mnist\n",
    "((imagens_treino, identificacoes_treino), (imagens_teste, identificacoes_teste)) = dataset.load_data()\n"
   ]
  },
  {
   "cell_type": "markdown",
   "metadata": {
    "colab_type": "text",
    "id": "oFr0526ZY5E_"
   },
   "source": [
    "#  Exploração dos dados"
   ]
  },
  {
   "cell_type": "code",
   "execution_count": 4,
   "metadata": {
    "colab": {
     "base_uri": "https://localhost:8080/",
     "height": 35
    },
    "colab_type": "code",
    "executionInfo": {
     "elapsed": 1479,
     "status": "ok",
     "timestamp": 1545137955774,
     "user": {
      "displayName": "Cássia Sampaio",
      "photoUrl": "https://lh5.googleusercontent.com/-WZZI20Ykt7M/AAAAAAAAAAI/AAAAAAAAAlI/NPtGozqQ-38/s64/photo.jpg",
      "userId": "11135730660253677021"
     },
     "user_tz": 120
    },
    "id": "fPIT36hpYl5A",
    "outputId": "812c2fcc-0c28-431b-91b8-1e64a05f31e8"
   },
   "outputs": [
    {
     "name": "stdout",
     "output_type": "stream",
     "text": [
      "60000 (60000, 28, 28) (10000, 28, 28) 10000 0 9\n"
     ]
    }
   ],
   "source": [
    "tamanho_treino = len(imagens_treino)\n",
    "forma_treino = imagens_treino.shape\n",
    "forma_teste = imagens_teste.shape\n",
    "tamanho_identificacoes = len(identificacoes_teste)\n",
    "minimo_treino = identificacoes_treino.min()\n",
    "maximo_treino = identificacoes_treino.max()\n",
    "\n",
    "print(tamanho_treino, \n",
    "      forma_treino,\n",
    "      forma_teste,\n",
    "      tamanho_identificacoes,\n",
    "      minimo_treino,\n",
    "      maximo_treino\n",
    "     )"
   ]
  },
  {
   "cell_type": "markdown",
   "metadata": {
    "colab_type": "text",
    "id": "yTWqT9DIY-iB"
   },
   "source": [
    "# Exibição dos dados"
   ]
  },
  {
   "cell_type": "code",
   "execution_count": 5,
   "metadata": {
    "colab": {
     "base_uri": "https://localhost:8080/",
     "height": 365
    },
    "colab_type": "code",
    "executionInfo": {
     "elapsed": 1699,
     "status": "ok",
     "timestamp": 1545137956003,
     "user": {
      "displayName": "Cássia Sampaio",
      "photoUrl": "https://lh5.googleusercontent.com/-WZZI20Ykt7M/AAAAAAAAAAI/AAAAAAAAAlI/NPtGozqQ-38/s64/photo.jpg",
      "userId": "11135730660253677021"
     },
     "user_tz": 120
    },
    "id": "bGESm49JVahh",
    "outputId": "25be141d-aa74-45fc-da00-f38b9a8f3039"
   },
   "outputs": [
    {
     "data": {
      "text/plain": [
       "<matplotlib.colorbar.Colorbar at 0x18fece6b1f0>"
      ]
     },
     "execution_count": 5,
     "metadata": {},
     "output_type": "execute_result"
    },
    {
     "data": {
      "image/png": "[encoded data removed]",
      "text/plain": [
       "<Figure size 640x480 with 2 Axes>"
      ]
     },
     "metadata": {},
     "output_type": "display_data"
    }
   ],
   "source": [
    "total_de_classificacoes = 10\n",
    "nomes_de_classificacoes = ['Camiseta', 'Calça', 'Pullover', \n",
    "                           'Vestido', 'Casaco', 'Sandália', 'Camisa',\n",
    "                           'Tênis', 'Bolsa', 'Bota']\n",
    "\n",
    "plt.imshow(imagens_treino[0])\n",
    "plt.colorbar()"
   ]
  },
  {
   "cell_type": "markdown",
   "metadata": {
    "colab_type": "text",
    "id": "uU6ZySpIcoc5"
   },
   "source": [
    "# Normalizando as imagens"
   ]
  },
  {
   "cell_type": "code",
   "execution_count": 6,
   "metadata": {
    "colab": {},
    "colab_type": "code",
    "id": "Ral_hdl9ulGG"
   },
   "outputs": [],
   "source": [
    "imagens_treino = imagens_treino/float(255)"
   ]
  },
  {
   "cell_type": "markdown",
   "metadata": {
    "colab_type": "text",
    "id": "2WABnvOJdCNl"
   },
   "source": [
    "# Criando, compilando, treinando e normalizando o modelo"
   ]
  },
  {
   "cell_type": "code",
   "execution_count": 7,
   "metadata": {
    "colab": {
     "base_uri": "https://localhost:8080/",
     "height": 228
    },
    "colab_type": "code",
    "executionInfo": {
     "elapsed": 11713,
     "status": "ok",
     "timestamp": 1545143728581,
     "user": {
      "displayName": "Cássia Sampaio",
      "photoUrl": "https://lh5.googleusercontent.com/-WZZI20Ykt7M/AAAAAAAAAAI/AAAAAAAAAlI/NPtGozqQ-38/s64/photo.jpg",
      "userId": "11135730660253677021"
     },
     "user_tz": 120
    },
    "id": "uFedwlfFc0ii",
    "outputId": "b2115202-893b-4830-d587-5b6608639925"
   },
   "outputs": [
    {
     "name": "stderr",
     "output_type": "stream",
     "text": [
      "WARNING:absl:`lr` is deprecated, please use `learning_rate` instead, or use the legacy optimizer, e.g.,tf.keras.optimizers.legacy.Adam.\n"
     ]
    },
    {
     "name": "stdout",
     "output_type": "stream",
     "text": [
      "Epoch 1/5\n",
      "100/100 [==============================] - 2s 11ms/step - loss: 0.7041 - accuracy: 0.7569 - val_loss: 0.4863 - val_accuracy: 0.8311\n",
      "Epoch 2/5\n",
      "100/100 [==============================] - 1s 9ms/step - loss: 0.4697 - accuracy: 0.8382 - val_loss: 0.4244 - val_accuracy: 0.8516\n"
     ]
    }
   ],
   "source": [
    "modelo = keras.Sequential([ \n",
    "    keras.layers.Flatten(input_shape=(28, 28)),\n",
    "    keras.layers.Dense(256, activation=tensorflow.nn.relu),\n",
    "    keras.layers.Dropout(0.2),\n",
    "    keras.layers.Dense(10, activation=tensorflow.nn.softmax)\n",
    "])\n",
    "\n",
    "adam = keras.optimizers.Adam(lr=0.002)\n",
    "\n",
    "parando_cedo = [keras.callbacks.EarlyStopping(monitor='val_loss'),\n",
    "                keras.callbacks.ModelCheckpoint(filepath='melhor_modelo.hdf5',\n",
    "                                               monitor='val_loss', save_best_only=True)]\n",
    "\n",
    "modelo.compile(optimizer=adam, \n",
    "               loss='sparse_categorical_crossentropy',\n",
    "               metrics=['accuracy'])\n",
    "\n",
    "historico = modelo.fit(imagens_treino, identificacoes_treino, \n",
    "                       batch_size = 480,\n",
    "                       epochs=5, validation_split=0.2,\n",
    "                       callbacks=parando_cedo)"
   ]
  },
  {
   "cell_type": "markdown",
   "metadata": {
    "colab_type": "text",
    "id": "weeyzt2QuDXS"
   },
   "source": [
    "# Sumário do modelo"
   ]
  },
  {
   "cell_type": "code",
   "execution_count": 8,
   "metadata": {
    "colab": {
     "base_uri": "https://localhost:8080/",
     "height": 277
    },
    "colab_type": "code",
    "executionInfo": {
     "elapsed": 51783,
     "status": "ok",
     "timestamp": 1545138006111,
     "user": {
      "displayName": "Cássia Sampaio",
      "photoUrl": "https://lh5.googleusercontent.com/-WZZI20Ykt7M/AAAAAAAAAAI/AAAAAAAAAlI/NPtGozqQ-38/s64/photo.jpg",
      "userId": "11135730660253677021"
     },
     "user_tz": 120
    },
    "id": "QLG_CH6Lr2vp",
    "outputId": "cb5ca991-99c3-41e8-d71a-81dedae12cb4"
   },
   "outputs": [
    {
     "name": "stdout",
     "output_type": "stream",
     "text": [
      "Model: \"sequential\"\n",
      "_________________________________________________________________\n",
      " Layer (type)                Output Shape              Param #   \n",
      "=================================================================\n",
      " flatten (Flatten)           (None, 784)               0         \n",
      "                                                                 \n",
      " dense (Dense)               (None, 256)               200960    \n",
      "                                                                 \n",
      " dropout (Dropout)           (None, 256)               0         \n",
      "                                                                 \n",
      " dense_1 (Dense)             (None, 10)                2570      \n",
      "                                                                 \n",
      "=================================================================\n",
      "Total params: 203,530\n",
      "Trainable params: 203,530\n",
      "Non-trainable params: 0\n",
      "_________________________________________________________________\n"
     ]
    }
   ],
   "source": [
    "sumario_do_modelo = modelo.summary()"
   ]
  },
  {
   "cell_type": "markdown",
   "metadata": {
    "colab_type": "text",
    "id": "GVuSQg42udch"
   },
   "source": [
    "# Pesos da primeira camada Dense"
   ]
  },
  {
   "cell_type": "code",
   "execution_count": 9,
   "metadata": {
    "colab": {
     "base_uri": "https://localhost:8080/",
     "height": 243
    },
    "colab_type": "code",
    "executionInfo": {
     "elapsed": 51780,
     "status": "ok",
     "timestamp": 1545138006114,
     "user": {
      "displayName": "Cássia Sampaio",
      "photoUrl": "https://lh5.googleusercontent.com/-WZZI20Ykt7M/AAAAAAAAAAI/AAAAAAAAAlI/NPtGozqQ-38/s64/photo.jpg",
      "userId": "11135730660253677021"
     },
     "user_tz": 120
    },
    "id": "YRzqJi5gr-ug",
    "outputId": "acb8a25a-268c-4a93-da4c-697b0e6c071b"
   },
   "outputs": [
    {
     "data": {
      "text/plain": [
       "array([[ 0.05591056,  0.00595807,  0.02971775, ...,  0.0514187 ,\n",
       "         0.0761022 , -0.02424345],\n",
       "       [ 0.06651663,  0.03592604, -0.02048187, ...,  0.07295763,\n",
       "         0.01672582, -0.00042734],\n",
       "       [ 0.10801479,  0.00642341, -0.02097098, ...,  0.01818965,\n",
       "        -0.07360467, -0.04675397],\n",
       "       ...,\n",
       "       [ 0.01421618, -0.05602677,  0.03307953, ..., -0.03681831,\n",
       "        -0.02253823, -0.08288964],\n",
       "       [-0.08285657,  0.07598419, -0.06528766, ...,  0.10164388,\n",
       "         0.0272934 ,  0.03868798],\n",
       "       [-0.06583146, -0.01494935,  0.02592475, ...,  0.08032788,\n",
       "         0.04961376, -0.0256828 ]], dtype=float32)"
      ]
     },
     "execution_count": 9,
     "metadata": {},
     "output_type": "execute_result"
    }
   ],
   "source": [
    "pesos_camada_dense = modelo.layers[1].get_weights()[0]\n",
    "pesos_camada_dense"
   ]
  },
  {
   "cell_type": "code",
   "execution_count": 11,
   "metadata": {},
   "outputs": [
    {
     "data": {
      "text/plain": [
       "(256,)"
      ]
     },
     "execution_count": 11,
     "metadata": {},
     "output_type": "execute_result"
    }
   ],
   "source": [
    "vieses_camada_dense = modelo.layers[1].get_weights()[1]\n",
    "vieses_camada_dense.shape"
   ]
  },
  {
   "cell_type": "code",
   "execution_count": 12,
   "metadata": {
    "colab": {
     "base_uri": "https://localhost:8080/",
     "height": 235
    },
    "colab_type": "code",
    "executionInfo": {
     "elapsed": 52970,
     "status": "error",
     "timestamp": 1545138007320,
     "user": {
      "displayName": "Cássia Sampaio",
      "photoUrl": "https://lh5.googleusercontent.com/-WZZI20Ykt7M/AAAAAAAAAAI/AAAAAAAAAlI/NPtGozqQ-38/s64/photo.jpg",
      "userId": "11135730660253677021"
     },
     "user_tz": 120
    },
    "id": "k5vzzzzF-pdh",
    "outputId": "8e285466-cda4-4e6b-c4a2-b2ba77f882d7"
   },
   "outputs": [
    {
     "data": {
      "text/plain": [
       "[array([[0.1481645 , 0.3362987 , 0.47310454, ..., 0.7870718 , 0.51886135,\n",
       "         0.80744225],\n",
       "        [0.22349283, 0.78335375, 0.90280515, ..., 0.80308324, 0.5315427 ,\n",
       "         0.89871585],\n",
       "        [0.09260693, 0.65196836, 0.9985639 , ..., 0.47307506, 0.2360664 ,\n",
       "         0.18945178],\n",
       "        ...,\n",
       "        [0.10320745, 0.9912229 , 0.68747646, ..., 0.8813555 , 0.17852564,\n",
       "         0.96605   ],\n",
       "        [0.18243495, 0.4957736 , 0.4945831 , ..., 0.8272136 , 0.447483  ,\n",
       "         0.584213  ],\n",
       "        [0.21683934, 0.38082713, 0.24720472, ..., 0.4390453 , 0.04875121,\n",
       "         0.83753735]], dtype=float32),\n",
       " array([ 0.04366844, -0.03840033, -0.07609589, -0.00358396,  0.07266479,\n",
       "        -0.02238809,  0.03285317, -0.02286703, -0.013018  , -0.04537496,\n",
       "        -0.04351438, -0.01747664, -0.01592753, -0.00963536,  0.01461107,\n",
       "        -0.01012555,  0.07344932,  0.0257959 ,  0.04706185,  0.02426376,\n",
       "         0.08994859, -0.02666559, -0.01042019,  0.06179625,  0.0800641 ,\n",
       "         0.02850415,  0.05386277,  0.01109631,  0.05440658,  0.01268788,\n",
       "         0.03060909, -0.01083019,  0.0104295 ,  0.0925276 ,  0.02539163,\n",
       "        -0.04624014,  0.04972427, -0.00320557,  0.03017358, -0.03161759,\n",
       "         0.01815074,  0.07124031,  0.05819545,  0.005434  ,  0.0457959 ,\n",
       "         0.06224749,  0.09683076,  0.02777466,  0.00917095, -0.01415914,\n",
       "         0.02786848,  0.00160308,  0.00059476,  0.07427523, -0.0453551 ,\n",
       "         0.06765465,  0.09006578,  0.01024901, -0.04466151,  0.06688813,\n",
       "         0.07819486,  0.00541675, -0.01505359,  0.01166078, -0.00434907,\n",
       "         0.07078335,  0.03488763, -0.01016823,  0.05040825, -0.02016884,\n",
       "         0.04037362,  0.04899333,  0.04161148,  0.04831894,  0.01017844,\n",
       "         0.01824914, -0.05868203,  0.03017768,  0.04810171, -0.02012405,\n",
       "         0.09333534,  0.00781877,  0.01382101, -0.02913063,  0.01952842,\n",
       "        -0.00746337, -0.01651461,  0.0620595 ,  0.02646614,  0.07462858,\n",
       "         0.02126837,  0.05832925,  0.04678279,  0.06383175,  0.06948414,\n",
       "         0.04321029,  0.03301803, -0.07016762, -0.00537417, -0.03547835,\n",
       "         0.04487219,  0.05645782, -0.00852201, -0.00481654,  0.03546226,\n",
       "         0.06223736,  0.04502605,  0.01978862,  0.02869271,  0.04612589,\n",
       "         0.03363942,  0.02734011, -0.02376682, -0.02409823, -0.01119986,\n",
       "         0.01246257, -0.0103848 , -0.02623985,  0.04387131,  0.11187492,\n",
       "        -0.04711827,  0.09865254,  0.01376836,  0.03993551,  0.04979943,\n",
       "        -0.01556712, -0.00991001,  0.01287411,  0.01658998, -0.01051858,\n",
       "         0.0064266 ,  0.05755496,  0.05023814, -0.01201949,  0.0671083 ,\n",
       "        -0.03360667,  0.0027486 ,  0.03361013,  0.10288768, -0.0129578 ,\n",
       "        -0.0021828 , -0.04938562, -0.0183667 ,  0.02007841,  0.0075239 ,\n",
       "        -0.08255473, -0.01076834, -0.07123759,  0.01656733,  0.08250958,\n",
       "         0.06704164,  0.00678744, -0.03025842, -0.00970034, -0.0121657 ,\n",
       "        -0.00049335,  0.04583649, -0.05309602,  0.11224327,  0.03523563,\n",
       "         0.03843756,  0.00634081, -0.02574825,  0.01876225, -0.04728761,\n",
       "         0.01999585,  0.00142254,  0.01317121,  0.03286039,  0.11486625,\n",
       "        -0.02539438,  0.02612017, -0.03126251, -0.05849424,  0.01103577,\n",
       "         0.07707099,  0.07211478,  0.04305394,  0.0447578 ,  0.11134218,\n",
       "         0.05104585,  0.01662614, -0.0648732 , -0.01229004,  0.02260559,\n",
       "        -0.04509212,  0.04103384, -0.04010391,  0.06461953, -0.01563914,\n",
       "         0.06773295,  0.05489543,  0.05440091,  0.05359853,  0.03761335,\n",
       "         0.0657866 , -0.02741089,  0.04847106, -0.04100747, -0.00966953,\n",
       "        -0.02171694,  0.08402174,  0.09173122,  0.071579  ,  0.01324183,\n",
       "        -0.01049661, -0.07419317, -0.02775219,  0.01680655, -0.06099547,\n",
       "        -0.01079248, -0.01878185, -0.02116685,  0.00040404,  0.03802338,\n",
       "         0.05483963, -0.05490552,  0.08819082, -0.01323469,  0.04693015,\n",
       "         0.04964146,  0.07200895,  0.07925703,  0.04181312, -0.01334136,\n",
       "        -0.04994535, -0.01217567, -0.00729464,  0.08796403, -0.01016049,\n",
       "        -0.03255257, -0.00874045,  0.04483198,  0.03067018, -0.04670827,\n",
       "         0.02560803,  0.05457295,  0.01065135, -0.02150957, -0.03480784,\n",
       "         0.04150027, -0.07330981, -0.04925637, -0.00682746,  0.10045753,\n",
       "        -0.05643058, -0.00242532, -0.0190761 ,  0.03156455,  0.00890831,\n",
       "         0.01269679,  0.05461949,  0.06890336,  0.07279427, -0.04261031,\n",
       "         0.06733891], dtype=float32)]"
      ]
     },
     "execution_count": 12,
     "metadata": {},
     "output_type": "execute_result"
    }
   ],
   "source": [
    "pesos_camada_dense.shape\n",
    "pesos_camada_dense_zerados = np.zeros((784, 256))\n",
    "\n",
    "pesos_camada_dense_aleatorios = np.random.rand(784, 256)\n",
    "\n",
    "'''\n",
    "modelo.layers[1].set_weights(\n",
    "    [pesos_camada_dense_zerados, vieses_camada_dense]\n",
    ")\n",
    "'''\n",
    "\n",
    "modelo.layers[1].set_weights(\n",
    "    [pesos_camada_dense_aleatorios, vieses_camada_dense]\n",
    ")\n",
    "\n",
    "modelo.layers[1].get_weights()\n"
   ]
  },
  {
   "cell_type": "code",
   "execution_count": 13,
   "metadata": {
    "colab": {},
    "colab_type": "code",
    "id": "0nJSiAyI_-3a"
   },
   "outputs": [
    {
     "name": "stdout",
     "output_type": "stream",
     "text": [
      "Epoch 1/5\n",
      "1500/1500 [==============================] - 4s 3ms/step - loss: 57.0606 - accuracy: 0.4081 - val_loss: 8.1563 - val_accuracy: 0.7093\n",
      "Epoch 2/5\n",
      "1500/1500 [==============================] - 3s 2ms/step - loss: 13.8730 - accuracy: 0.6229 - val_loss: 5.4740 - val_accuracy: 0.7002\n",
      "Epoch 3/5\n",
      "1500/1500 [==============================] - 3s 2ms/step - loss: 5.6661 - accuracy: 0.6708 - val_loss: 2.4571 - val_accuracy: 0.7605\n",
      "Epoch 4/5\n",
      "1500/1500 [==============================] - 3s 2ms/step - loss: 2.9362 - accuracy: 0.6984 - val_loss: 1.5132 - val_accuracy: 0.7692\n",
      "Epoch 5/5\n",
      "1500/1500 [==============================] - 4s 3ms/step - loss: 1.6888 - accuracy: 0.7334 - val_loss: 0.8788 - val_accuracy: 0.8098\n"
     ]
    }
   ],
   "source": [
    "modelo.compile(optimizer='adam', \n",
    "               loss='sparse_categorical_crossentropy',\n",
    "               metrics=['accuracy'])\n",
    "\n",
    "historico = modelo.fit(imagens_treino, identificacoes_treino, epochs=5, validation_split=0.2)"
   ]
  },
  {
   "cell_type": "code",
   "execution_count": 15,
   "metadata": {
    "colab": {},
    "colab_type": "code",
    "id": "TqiDVI-aAi9k"
   },
   "outputs": [
    {
     "data": {
      "text/plain": [
       "<matplotlib.legend.Legend at 0x18fe9a9d9a0>"
      ]
     },
     "execution_count": 15,
     "metadata": {},
     "output_type": "execute_result"
    },
    {
     "data": {
      "image/png": "[encoded data removed]",
      "text/plain": [
       "<Figure size 640x480 with 1 Axes>"
      ]
     },
     "metadata": {},
     "output_type": "display_data"
    }
   ],
   "source": [
    "plt.plot(historico.history['accuracy'])\n",
    "plt.plot(historico.history['val_accuracy'])\n",
    "plt.title('Acurácia por épocas')\n",
    "plt.xlabel('épocas')\n",
    "plt.ylabel('acurácia')\n",
    "plt.legend(['treino', 'validação'])\n"
   ]
  },
  {
   "cell_type": "code",
   "execution_count": 18,
   "metadata": {
    "colab": {
     "base_uri": "https://localhost:8080/",
     "height": 815
    },
    "colab_type": "code",
    "executionInfo": {
     "elapsed": 597,
     "status": "ok",
     "timestamp": 1545144456753,
     "user": {
      "displayName": "Cássia Sampaio",
      "photoUrl": "https://lh5.googleusercontent.com/-WZZI20Ykt7M/AAAAAAAAAAI/AAAAAAAAAlI/NPtGozqQ-38/s64/photo.jpg",
      "userId": "11135730660253677021"
     },
     "user_tz": 120
    },
    "id": "sELsC7XkFCei",
    "outputId": "1de3e550-e52b-4e0c-fff5-cb1981361c3c"
   },
   "outputs": [
    {
     "data": {
      "text/plain": [
       "{'name': 'sequential',\n",
       " 'layers': [{'class_name': 'InputLayer',\n",
       "   'config': {'batch_input_shape': (None, 28, 28),\n",
       "    'dtype': 'float32',\n",
       "    'sparse': False,\n",
       "    'ragged': False,\n",
       "    'name': 'flatten_input'}},\n",
       "  {'class_name': 'Flatten',\n",
       "   'config': {'name': 'flatten',\n",
       "    'trainable': True,\n",
       "    'dtype': 'float32',\n",
       "    'batch_input_shape': (None, 28, 28),\n",
       "    'data_format': 'channels_last'}},\n",
       "  {'class_name': 'Dense',\n",
       "   'config': {'name': 'dense',\n",
       "    'trainable': True,\n",
       "    'dtype': 'float32',\n",
       "    'units': 256,\n",
       "    'activation': 'relu',\n",
       "    'use_bias': True,\n",
       "    'kernel_initializer': {'class_name': 'GlorotUniform',\n",
       "     'config': {'seed': None}},\n",
       "    'bias_initializer': {'class_name': 'Zeros', 'config': {}},\n",
       "    'kernel_regularizer': None,\n",
       "    'bias_regularizer': None,\n",
       "    'activity_regularizer': None,\n",
       "    'kernel_constraint': None,\n",
       "    'bias_constraint': None}},\n",
       "  {'class_name': 'Dropout',\n",
       "   'config': {'name': 'dropout',\n",
       "    'trainable': True,\n",
       "    'dtype': 'float32',\n",
       "    'rate': 0.2,\n",
       "    'noise_shape': None,\n",
       "    'seed': None}},\n",
       "  {'class_name': 'Dense',\n",
       "   'config': {'name': 'dense_1',\n",
       "    'trainable': True,\n",
       "    'dtype': 'float32',\n",
       "    'units': 10,\n",
       "    'activation': 'softmax',\n",
       "    'use_bias': True,\n",
       "    'kernel_initializer': {'class_name': 'GlorotUniform',\n",
       "     'config': {'seed': None}},\n",
       "    'bias_initializer': {'class_name': 'Zeros', 'config': {}},\n",
       "    'kernel_regularizer': None,\n",
       "    'bias_regularizer': None,\n",
       "    'activity_regularizer': None,\n",
       "    'kernel_constraint': None,\n",
       "    'bias_constraint': None}}]}"
      ]
     },
     "execution_count": 18,
     "metadata": {},
     "output_type": "execute_result"
    }
   ],
   "source": [
    "modelo.get_config()"
   ]
  },
  {
   "cell_type": "code",
   "execution_count": 19,
   "metadata": {
    "colab": {},
    "colab_type": "code",
    "id": "4S8FoWQ1Ar_x"
   },
   "outputs": [
    {
     "data": {
      "text/plain": [
       "<matplotlib.legend.Legend at 0x18fe62e0970>"
      ]
     },
     "execution_count": 19,
     "metadata": {},
     "output_type": "execute_result"
    },
    {
     "data": {
      "image/png": "[encoded data removed]",
      "text/plain": [
       "<Figure size 640x480 with 1 Axes>"
      ]
     },
     "metadata": {},
     "output_type": "display_data"
    }
   ],
   "source": [
    "plt.plot(historico.history['loss'])\n",
    "plt.plot(historico.history['val_loss'])\n",
    "plt.title('Perda por épocas')\n",
    "plt.xlabel('épocas')\n",
    "plt.ylabel('perda')\n",
    "plt.legend(['treino', 'validação'])"
   ]
  },
  {
   "cell_type": "code",
   "execution_count": 20,
   "metadata": {
    "colab": {},
    "colab_type": "code",
    "id": "5lEZYFfHHfrx"
   },
   "outputs": [],
   "source": [
    "vieses_camada_dense_zerados = np.zeros((256,))\n",
    "modelo.layers[1].set_weights(\n",
    "    [pesos_camada_dense_aleatorios, vieses_camada_dense_zerados]\n",
    ")"
   ]
  },
  {
   "cell_type": "markdown",
   "metadata": {
    "colab_type": "text",
    "id": "4-RqzS88dgk_"
   },
   "source": [
    "# Salvando e carregando o modelo treinado"
   ]
  },
  {
   "cell_type": "code",
   "execution_count": 21,
   "metadata": {
    "colab": {},
    "colab_type": "code",
    "id": "SVjmU41IELzX"
   },
   "outputs": [],
   "source": [
    "modelo.save('modelo.h5')\n",
    "modelo_salvo = load_model('modelo.h5')"
   ]
  },
  {
   "cell_type": "markdown",
   "metadata": {
    "colab_type": "text",
    "id": "SVxHO3opdnMb"
   },
   "source": [
    "# Visualizando as acurácias de treino e validação por época"
   ]
  },
  {
   "cell_type": "code",
   "execution_count": 23,
   "metadata": {
    "colab": {},
    "colab_type": "code",
    "id": "pNc0JsWZY1Ie"
   },
   "outputs": [
    {
     "data": {
      "text/plain": [
       "<matplotlib.legend.Legend at 0x18feafa79a0>"
      ]
     },
     "execution_count": 23,
     "metadata": {},
     "output_type": "execute_result"
    },
    {
     "data": {
      "image/png": "[encoded data removed]",
      "text/plain": [
       "<Figure size 640x480 with 1 Axes>"
      ]
     },
     "metadata": {},
     "output_type": "display_data"
    }
   ],
   "source": [
    "plt.plot(historico.history['accuracy'])\n",
    "plt.plot(historico.history['val_accuracy'])\n",
    "plt.title('Acurácia por épocas')\n",
    "plt.xlabel('épocas')\n",
    "plt.ylabel('acurácia')\n",
    "plt.legend(['treino', 'validação'])\n"
   ]
  },
  {
   "cell_type": "markdown",
   "metadata": {
    "colab_type": "text",
    "id": "ZKxkWNawdzZh"
   },
   "source": [
    "# Visualizando as perdas de treino e validação por época"
   ]
  },
  {
   "cell_type": "code",
   "execution_count": 24,
   "metadata": {
    "colab": {},
    "colab_type": "code",
    "id": "2ugG3Vusg_Va"
   },
   "outputs": [
    {
     "data": {
      "text/plain": [
       "<matplotlib.legend.Legend at 0x18feb1c5fa0>"
      ]
     },
     "execution_count": 24,
     "metadata": {},
     "output_type": "execute_result"
    },
    {
     "data": {
      "image/png": "[encoded data removed]",
      "text/plain": [
       "<Figure size 640x480 with 1 Axes>"
      ]
     },
     "metadata": {},
     "output_type": "display_data"
    }
   ],
   "source": [
    "plt.plot(historico.history['loss'])\n",
    "plt.plot(historico.history['val_loss'])\n",
    "plt.title('Perda por épocas')\n",
    "plt.xlabel('épocas')\n",
    "plt.ylabel('perda')\n",
    "plt.legend(['treino', 'validação'])"
   ]
  },
  {
   "cell_type": "markdown",
   "metadata": {
    "colab_type": "text",
    "id": "JFXG1oibd8E8"
   },
   "source": [
    "# Testando o modelo e o modelo salvo"
   ]
  },
  {
   "cell_type": "code",
   "execution_count": 27,
   "metadata": {
    "colab": {},
    "colab_type": "code",
    "id": "I2kLEHPYUdhd"
   },
   "outputs": [
    {
     "name": "stdout",
     "output_type": "stream",
     "text": [
      "313/313 [==============================] - 0s 1ms/step\n",
      "resultado teste: 2\n",
      "número da imagem de teste: 1\n",
      "313/313 [==============================] - 0s 1ms/step\n",
      "resultado teste modelo salvo: 2\n",
      "número da imagem de teste: 1\n"
     ]
    }
   ],
   "source": [
    "testes = modelo.predict(imagens_teste)\n",
    "print('resultado teste:', np.argmax(testes[2]))\n",
    "print('número da imagem de teste:', identificacoes_teste[2])\n",
    "\n",
    "testes_modelo_salvo = modelo_salvo.predict(imagens_teste)\n",
    "print('resultado teste modelo salvo:', np.argmax(testes_modelo_salvo[2]))\n",
    "print('número da imagem de teste:', identificacoes_teste[2])"
   ]
  },
  {
   "cell_type": "markdown",
   "metadata": {
    "colab_type": "text",
    "id": "U64QMV1GeCUr"
   },
   "source": [
    "# Avaliando o modelo"
   ]
  },
  {
   "cell_type": "code",
   "execution_count": 28,
   "metadata": {
    "colab": {},
    "colab_type": "code",
    "id": "wsbr9WqyXQ2G"
   },
   "outputs": [
    {
     "name": "stdout",
     "output_type": "stream",
     "text": [
      "313/313 [==============================] - 0s 1ms/step - loss: 15484.7793 - accuracy: 0.1000\n",
      "Perda do teste: 15484.779296875\n",
      "Acurácia do teste: 0.10000000149011612\n"
     ]
    }
   ],
   "source": [
    "perda_teste, acuracia_teste = modelo.evaluate(imagens_teste, identificacoes_teste)\n",
    "print('Perda do teste:', perda_teste)\n",
    "print('Acurácia do teste:', acuracia_teste)"
   ]
  },
  {
   "cell_type": "code",
   "execution_count": null,
   "metadata": {},
   "outputs": [],
   "source": []
  }
 ],
 "metadata": {
  "colab": {
   "collapsed_sections": [],
   "name": "Segundo_projeto_aula5.ipynb",
   "provenance": [
    {
     "file_id": "1w-SdjiC3XEAlFe6PaYiFU-NL-c9sGroF",
     "timestamp": 1545061684493
    },
    {
     "file_id": "1XJcYr2kO2iMOxUFklsI8Nov8DHfWaN6F",
     "timestamp": 1545061633428
    },
    {
     "file_id": "1t03BioBUhAKHpvQmooWdnjxgkj-MAF7D",
     "timestamp": 1544203981880
    },
    {
     "file_id": "1-pv9T-KI09_jiMUe4MErOnAHR3IFfjtS",
     "timestamp": 1544114456244
    },
    {
     "file_id": "1Hg5iQPzIw9n7ioWeD9Nv3AnAPFDA0bE_",
     "timestamp": 1538632904381
    }
   ],
   "version": "0.3.2"
  },
  "kernelspec": {
   "display_name": "Python 3 (ipykernel)",
   "language": "python",
   "name": "python3"
  },
  "language_info": {
   "codemirror_mode": {
    "name": "ipython",
    "version": 3
   },
   "file_extension": ".py",
   "mimetype": "text/x-python",
   "name": "python",
   "nbconvert_exporter": "python",
   "pygments_lexer": "ipython3",
   "version": "3.9.13"
  }
 },
 "nbformat": 4,
 "nbformat_minor": 1
}
