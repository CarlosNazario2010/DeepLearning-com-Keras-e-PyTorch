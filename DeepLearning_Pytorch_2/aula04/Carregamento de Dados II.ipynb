{
 "cells": [
  {
   "cell_type": "markdown",
   "metadata": {
    "colab_type": "text",
    "id": "JDM84H0wO5I_"
   },
   "source": [
    "# Carregamento de Dados\n",
    "\n",
    "Objetivos dessa aula:\n",
    "* Carregar um dataset customizado\n",
    "* Implementar o fluxo de treinamento **e validação** completo de uma rede\n"
   ]
  },
  {
   "cell_type": "markdown",
   "metadata": {
    "colab_type": "text",
    "id": "Qg_W2-tDlpz3"
   },
   "source": [
    "## Hiperparâmetros\n",
    "\n",
    "Vamos manter a organização do último script :)\n",
    "\n",
    "* imports de pacotes\n",
    "* configuração de hiperparâmetros\n",
    "* definição do hardware padrão utilizado\n",
    "\n",
    "E bora de GPU de novo! \n"
   ]
  },
  {
   "cell_type": "code",
   "execution_count": 1,
   "metadata": {
    "colab": {
     "base_uri": "https://localhost:8080/",
     "height": 34
    },
    "colab_type": "code",
    "id": "QfisIdsWlioB",
    "outputId": "70b1ec97-38f8-4123-b694-cad9352a80fb"
   },
   "outputs": [
    {
     "name": "stdout",
     "output_type": "stream",
     "text": [
      "cpu\n"
     ]
    }
   ],
   "source": [
    "import torch\n",
    "from torch import nn\n",
    "from torch import optim\n",
    "\n",
    "from torch.utils.data import Dataset\n",
    "from torch.utils.data import DataLoader\n",
    "\n",
    "from sklearn import metrics\n",
    "from sklearn.preprocessing import StandardScaler\n",
    "\n",
    "import pandas as pd\n",
    "import numpy as np\n",
    "import time\n",
    "import os\n",
    "\n",
    "\n",
    "import matplotlib.pyplot as plt\n",
    "%matplotlib inline\n",
    "\n",
    "# Configurando hiperparâmetros.\n",
    "args = {\n",
    "    'epoch_num': 200,     # Número de épocas.\n",
    "    'lr': 5e-5,           # Taxa de aprendizado.\n",
    "    'weight_decay': 5e-4, # Penalidade L2 (Regularização).\n",
    "    'num_workers': 3,     # Número de threads do dataloader.\n",
    "    'batch_size': 20,     # Tamanho do batch.\n",
    "}\n",
    "\n",
    "if torch.cuda.is_available():\n",
    "    args['device'] = torch.device('cuda')\n",
    "else:\n",
    "    args['device'] = torch.device('cpu')\n",
    "\n",
    "print(args['device'])"
   ]
  },
  {
   "cell_type": "markdown",
   "metadata": {
    "colab_type": "text",
    "id": "UyXDulgH77_s"
   },
   "source": [
    "## Dataset \n",
    "\n",
    "Dataset de aplicativos para aluguel de bicicletas (*Bike Sharing Dataset*). <br>\n",
    "* Dadas algumas informações como velocidade do vento, estação do ano, etc., quantas bicicletas serão alugadas na próxima hora?\n",
    "\n",
    "Esse é um problema de **Regressão**, onde precisamos estimar uma variável dependente em um espaço contínuo (alugueis de bikes) a partir de um conjunto de variáveis independentes (as condições no momento)."
   ]
  },
  {
   "cell_type": "markdown",
   "metadata": {
    "colab_type": "text",
    "id": "3ydTqRvqH-1-"
   },
   "source": [
    "### Baixando o dataset\n",
    "\n",
    "Fonte: https://archive.ics.uci.edu/ml/datasets/Bike+Sharing+Dataset\n",
    "\n"
   ]
  },
  {
   "cell_type": "markdown",
   "metadata": {
    "colab_type": "text",
    "id": "GjsCxBQJsTce"
   },
   "source": [
    "### Visualizando os dados"
   ]
  },
  {
   "cell_type": "code",
   "execution_count": 2,
   "metadata": {
    "colab": {
     "base_uri": "https://localhost:8080/",
     "height": 326
    },
    "colab_type": "code",
    "id": "bUkvnM8SKlY3",
    "outputId": "96916e77-bf6d-4dfa-eac8-524495c4c5e1"
   },
   "outputs": [
    {
     "name": "stdout",
     "output_type": "stream",
     "text": [
      "17379\n"
     ]
    },
    {
     "data": {
      "text/html": [
       "<div>\n",
       "<style scoped>\n",
       "    .dataframe tbody tr th:only-of-type {\n",
       "        vertical-align: middle;\n",
       "    }\n",
       "\n",
       "    .dataframe tbody tr th {\n",
       "        vertical-align: top;\n",
       "    }\n",
       "\n",
       "    .dataframe thead th {\n",
       "        text-align: right;\n",
       "    }\n",
       "</style>\n",
       "<table border=\"1\" class=\"dataframe\">\n",
       "  <thead>\n",
       "    <tr style=\"text-align: right;\">\n",
       "      <th></th>\n",
       "      <th>instant</th>\n",
       "      <th>dteday</th>\n",
       "      <th>season</th>\n",
       "      <th>yr</th>\n",
       "      <th>mnth</th>\n",
       "      <th>hr</th>\n",
       "      <th>holiday</th>\n",
       "      <th>weekday</th>\n",
       "      <th>workingday</th>\n",
       "      <th>weathersit</th>\n",
       "      <th>temp</th>\n",
       "      <th>atemp</th>\n",
       "      <th>hum</th>\n",
       "      <th>windspeed</th>\n",
       "      <th>casual</th>\n",
       "      <th>registered</th>\n",
       "      <th>cnt</th>\n",
       "    </tr>\n",
       "  </thead>\n",
       "  <tbody>\n",
       "    <tr>\n",
       "      <th>0</th>\n",
       "      <td>1</td>\n",
       "      <td>2011-01-01</td>\n",
       "      <td>1</td>\n",
       "      <td>0</td>\n",
       "      <td>1</td>\n",
       "      <td>0</td>\n",
       "      <td>0</td>\n",
       "      <td>6</td>\n",
       "      <td>0</td>\n",
       "      <td>1</td>\n",
       "      <td>0.24</td>\n",
       "      <td>0.2879</td>\n",
       "      <td>0.81</td>\n",
       "      <td>0.0</td>\n",
       "      <td>3</td>\n",
       "      <td>13</td>\n",
       "      <td>16</td>\n",
       "    </tr>\n",
       "    <tr>\n",
       "      <th>1</th>\n",
       "      <td>2</td>\n",
       "      <td>2011-01-01</td>\n",
       "      <td>1</td>\n",
       "      <td>0</td>\n",
       "      <td>1</td>\n",
       "      <td>1</td>\n",
       "      <td>0</td>\n",
       "      <td>6</td>\n",
       "      <td>0</td>\n",
       "      <td>1</td>\n",
       "      <td>0.22</td>\n",
       "      <td>0.2727</td>\n",
       "      <td>0.80</td>\n",
       "      <td>0.0</td>\n",
       "      <td>8</td>\n",
       "      <td>32</td>\n",
       "      <td>40</td>\n",
       "    </tr>\n",
       "    <tr>\n",
       "      <th>2</th>\n",
       "      <td>3</td>\n",
       "      <td>2011-01-01</td>\n",
       "      <td>1</td>\n",
       "      <td>0</td>\n",
       "      <td>1</td>\n",
       "      <td>2</td>\n",
       "      <td>0</td>\n",
       "      <td>6</td>\n",
       "      <td>0</td>\n",
       "      <td>1</td>\n",
       "      <td>0.22</td>\n",
       "      <td>0.2727</td>\n",
       "      <td>0.80</td>\n",
       "      <td>0.0</td>\n",
       "      <td>5</td>\n",
       "      <td>27</td>\n",
       "      <td>32</td>\n",
       "    </tr>\n",
       "    <tr>\n",
       "      <th>3</th>\n",
       "      <td>4</td>\n",
       "      <td>2011-01-01</td>\n",
       "      <td>1</td>\n",
       "      <td>0</td>\n",
       "      <td>1</td>\n",
       "      <td>3</td>\n",
       "      <td>0</td>\n",
       "      <td>6</td>\n",
       "      <td>0</td>\n",
       "      <td>1</td>\n",
       "      <td>0.24</td>\n",
       "      <td>0.2879</td>\n",
       "      <td>0.75</td>\n",
       "      <td>0.0</td>\n",
       "      <td>3</td>\n",
       "      <td>10</td>\n",
       "      <td>13</td>\n",
       "    </tr>\n",
       "    <tr>\n",
       "      <th>4</th>\n",
       "      <td>5</td>\n",
       "      <td>2011-01-01</td>\n",
       "      <td>1</td>\n",
       "      <td>0</td>\n",
       "      <td>1</td>\n",
       "      <td>4</td>\n",
       "      <td>0</td>\n",
       "      <td>6</td>\n",
       "      <td>0</td>\n",
       "      <td>1</td>\n",
       "      <td>0.24</td>\n",
       "      <td>0.2879</td>\n",
       "      <td>0.75</td>\n",
       "      <td>0.0</td>\n",
       "      <td>0</td>\n",
       "      <td>1</td>\n",
       "      <td>1</td>\n",
       "    </tr>\n",
       "  </tbody>\n",
       "</table>\n",
       "</div>"
      ],
      "text/plain": [
       "   instant      dteday  season  yr  mnth  hr  holiday  weekday  workingday  \\\n",
       "0        1  2011-01-01       1   0     1   0        0        6           0   \n",
       "1        2  2011-01-01       1   0     1   1        0        6           0   \n",
       "2        3  2011-01-01       1   0     1   2        0        6           0   \n",
       "3        4  2011-01-01       1   0     1   3        0        6           0   \n",
       "4        5  2011-01-01       1   0     1   4        0        6           0   \n",
       "\n",
       "   weathersit  temp   atemp   hum  windspeed  casual  registered  cnt  \n",
       "0           1  0.24  0.2879  0.81        0.0       3          13   16  \n",
       "1           1  0.22  0.2727  0.80        0.0       8          32   40  \n",
       "2           1  0.22  0.2727  0.80        0.0       5          27   32  \n",
       "3           1  0.24  0.2879  0.75        0.0       3          10   13  \n",
       "4           1  0.24  0.2879  0.75        0.0       0           1    1  "
      ]
     },
     "execution_count": 2,
     "metadata": {},
     "output_type": "execute_result"
    }
   ],
   "source": [
    "df = pd.read_csv('hour.csv')\n",
    "print(len(df))\n",
    "df.head()"
   ]
  },
  {
   "cell_type": "markdown",
   "metadata": {
    "colab_type": "text",
    "id": "PcvrTUl2OLmL"
   },
   "source": [
    "### Tratamento de dados\n",
    "\n",
    "**Variáveis Categóricas** <br>\n",
    "Como descrito na página do dataset, apenas as variáveis numéricas estão normalizadas. No caso das categóricas (como dia da semana e estação do ano), cada elemento contém o índice da categoria.\n",
    "\n",
    "Existem várias formas de lidar com variáveis categóricas em uma regressão, mas para não desviar o foco da nossa aula manteremos os valores originais das variáveis categóricas.\n",
    "\n",
    "**Separação em treino e teste**<br>\n",
    "\n",
    "Para treinar e validar o nosso modelo, precisamos de dois conjuntos de dados (treino e teste). Para isso, utilizaremos a função ```torch.randperm``` para amostrar aleatoriamente um percentual dos dados, separando-os para validação.\n",
    "\n",
    "Documentação: https://pytorch.org/docs/stable/torch.html#torch.randperm"
   ]
  },
  {
   "cell_type": "code",
   "execution_count": 3,
   "metadata": {
    "colab": {
     "base_uri": "https://localhost:8080/",
     "height": 360
    },
    "colab_type": "code",
    "id": "AnjCdm1bMqhG",
    "outputId": "7c307c94-e1bd-433c-955d-712da1f20feb"
   },
   "outputs": [
    {
     "name": "stdout",
     "output_type": "stream",
     "text": [
      "13903 3476\n"
     ]
    },
    {
     "data": {
      "text/html": [
       "<div>\n",
       "<style scoped>\n",
       "    .dataframe tbody tr th:only-of-type {\n",
       "        vertical-align: middle;\n",
       "    }\n",
       "\n",
       "    .dataframe tbody tr th {\n",
       "        vertical-align: top;\n",
       "    }\n",
       "\n",
       "    .dataframe thead th {\n",
       "        text-align: right;\n",
       "    }\n",
       "</style>\n",
       "<table border=\"1\" class=\"dataframe\">\n",
       "  <thead>\n",
       "    <tr style=\"text-align: right;\">\n",
       "      <th></th>\n",
       "      <th>instant</th>\n",
       "      <th>dteday</th>\n",
       "      <th>season</th>\n",
       "      <th>yr</th>\n",
       "      <th>mnth</th>\n",
       "      <th>hr</th>\n",
       "      <th>holiday</th>\n",
       "      <th>weekday</th>\n",
       "      <th>workingday</th>\n",
       "      <th>weathersit</th>\n",
       "      <th>temp</th>\n",
       "      <th>atemp</th>\n",
       "      <th>hum</th>\n",
       "      <th>windspeed</th>\n",
       "      <th>casual</th>\n",
       "      <th>registered</th>\n",
       "      <th>cnt</th>\n",
       "    </tr>\n",
       "  </thead>\n",
       "  <tbody>\n",
       "    <tr>\n",
       "      <th>12663</th>\n",
       "      <td>12664</td>\n",
       "      <td>2012-06-16</td>\n",
       "      <td>2</td>\n",
       "      <td>1</td>\n",
       "      <td>6</td>\n",
       "      <td>20</td>\n",
       "      <td>0</td>\n",
       "      <td>6</td>\n",
       "      <td>0</td>\n",
       "      <td>2</td>\n",
       "      <td>0.66</td>\n",
       "      <td>0.6212</td>\n",
       "      <td>0.47</td>\n",
       "      <td>0.1940</td>\n",
       "      <td>123</td>\n",
       "      <td>229</td>\n",
       "      <td>352</td>\n",
       "    </tr>\n",
       "    <tr>\n",
       "      <th>1801</th>\n",
       "      <td>1802</td>\n",
       "      <td>2011-03-20</td>\n",
       "      <td>1</td>\n",
       "      <td>0</td>\n",
       "      <td>3</td>\n",
       "      <td>18</td>\n",
       "      <td>0</td>\n",
       "      <td>0</td>\n",
       "      <td>0</td>\n",
       "      <td>1</td>\n",
       "      <td>0.38</td>\n",
       "      <td>0.3939</td>\n",
       "      <td>0.40</td>\n",
       "      <td>0.3582</td>\n",
       "      <td>58</td>\n",
       "      <td>98</td>\n",
       "      <td>156</td>\n",
       "    </tr>\n",
       "    <tr>\n",
       "      <th>16567</th>\n",
       "      <td>16568</td>\n",
       "      <td>2012-11-28</td>\n",
       "      <td>4</td>\n",
       "      <td>1</td>\n",
       "      <td>11</td>\n",
       "      <td>1</td>\n",
       "      <td>0</td>\n",
       "      <td>3</td>\n",
       "      <td>1</td>\n",
       "      <td>2</td>\n",
       "      <td>0.26</td>\n",
       "      <td>0.2576</td>\n",
       "      <td>0.75</td>\n",
       "      <td>0.2239</td>\n",
       "      <td>0</td>\n",
       "      <td>12</td>\n",
       "      <td>12</td>\n",
       "    </tr>\n",
       "    <tr>\n",
       "      <th>8817</th>\n",
       "      <td>8818</td>\n",
       "      <td>2012-01-08</td>\n",
       "      <td>1</td>\n",
       "      <td>1</td>\n",
       "      <td>1</td>\n",
       "      <td>5</td>\n",
       "      <td>0</td>\n",
       "      <td>0</td>\n",
       "      <td>0</td>\n",
       "      <td>2</td>\n",
       "      <td>0.32</td>\n",
       "      <td>0.3333</td>\n",
       "      <td>0.49</td>\n",
       "      <td>0.1045</td>\n",
       "      <td>0</td>\n",
       "      <td>2</td>\n",
       "      <td>2</td>\n",
       "    </tr>\n",
       "    <tr>\n",
       "      <th>2608</th>\n",
       "      <td>2609</td>\n",
       "      <td>2011-04-23</td>\n",
       "      <td>2</td>\n",
       "      <td>0</td>\n",
       "      <td>4</td>\n",
       "      <td>14</td>\n",
       "      <td>0</td>\n",
       "      <td>6</td>\n",
       "      <td>0</td>\n",
       "      <td>1</td>\n",
       "      <td>0.58</td>\n",
       "      <td>0.5455</td>\n",
       "      <td>0.78</td>\n",
       "      <td>0.3582</td>\n",
       "      <td>182</td>\n",
       "      <td>209</td>\n",
       "      <td>391</td>\n",
       "    </tr>\n",
       "  </tbody>\n",
       "</table>\n",
       "</div>"
      ],
      "text/plain": [
       "       instant      dteday  season  yr  mnth  hr  holiday  weekday  \\\n",
       "12663    12664  2012-06-16       2   1     6  20        0        6   \n",
       "1801      1802  2011-03-20       1   0     3  18        0        0   \n",
       "16567    16568  2012-11-28       4   1    11   1        0        3   \n",
       "8817      8818  2012-01-08       1   1     1   5        0        0   \n",
       "2608      2609  2011-04-23       2   0     4  14        0        6   \n",
       "\n",
       "       workingday  weathersit  temp   atemp   hum  windspeed  casual  \\\n",
       "12663           0           2  0.66  0.6212  0.47     0.1940     123   \n",
       "1801            0           1  0.38  0.3939  0.40     0.3582      58   \n",
       "16567           1           2  0.26  0.2576  0.75     0.2239       0   \n",
       "8817            0           2  0.32  0.3333  0.49     0.1045       0   \n",
       "2608            0           1  0.58  0.5455  0.78     0.3582     182   \n",
       "\n",
       "       registered  cnt  \n",
       "12663         229  352  \n",
       "1801           98  156  \n",
       "16567          12   12  \n",
       "8817            2    2  \n",
       "2608          209  391  "
      ]
     },
     "metadata": {},
     "output_type": "display_data"
    }
   ],
   "source": [
    "# Train/Test split\n",
    "torch.manual_seed(1)\n",
    "indices = torch.randperm(len(df)).tolist()\n",
    "\n",
    "train_size = int(0.8*len(df))\n",
    "df_train = df.iloc[indices[:train_size]]\n",
    "df_test  = df.iloc[indices[train_size:]]\n",
    "\n",
    "print(len(df_train), len(df_test))\n",
    "display(df_test.head())\n",
    "\n",
    "df_train.to_csv('bike_train.csv',index=False)\n",
    "df_test.to_csv('bike_test.csv',index=False)"
   ]
  },
  {
   "cell_type": "markdown",
   "metadata": {
    "colab_type": "text",
    "id": "daUL9nMxICW0"
   },
   "source": [
    "### Classe Dataset\n",
    "\n",
    "O pacote ```torch.util.data``` possui a classe abstrata ```Dataset```. Ela permite que você implemente o seu próprio dataset reescrevendo os métodos:\n",
    "\n",
    "* ```__init__(self)```: Define a lista de amostras do seu dataset\n",
    "* ```__getitem__(self, idx)```: Carrega uma amostra, aplica as devidas transformações e retorna uma **tupla ```(dado, rótulo)```**.\n",
    "* ```__len__(self)```: Retorna a quantidade de amostras do dataset\n",
    "\n",
    "Tutorial completo do PyTorch: https://pytorch.org/tutorials/beginner/data_loading_tutorial.html\n"
   ]
  },
  {
   "cell_type": "code",
   "execution_count": 4,
   "metadata": {
    "colab": {},
    "colab_type": "code",
    "id": "jaLPZteS9fkW"
   },
   "outputs": [],
   "source": [
    "class Bicicletinha(Dataset):\n",
    "  def __init__(self, csv_path, scaler_feat=None, scaler_label=None):\n",
    "  \n",
    "    self.dados = pd.read_csv(csv_path).to_numpy()\n",
    "    \n",
    "  def __getitem__(self, idx):\n",
    "    \n",
    "    sample = self.dados[idx][2:14]\n",
    "    label  = self.dados[idx][-1:]\n",
    "    \n",
    "    # converte para tensor\n",
    "    sample = torch.from_numpy(sample.astype(np.float32))\n",
    "    label  = torch.from_numpy(label.astype(np.float32))\n",
    "    \n",
    "    return sample, label\n",
    "    \n",
    "  def __len__(self):\n",
    "    return len(self.dados)"
   ]
  },
  {
   "cell_type": "code",
   "execution_count": 5,
   "metadata": {
    "colab": {
     "base_uri": "https://localhost:8080/",
     "height": 68
    },
    "colab_type": "code",
    "id": "Sd4yl7sbQQGr",
    "outputId": "eaf1f6e9-af4c-4302-e780-a453d99c4411"
   },
   "outputs": [
    {
     "name": "stdout",
     "output_type": "stream",
     "text": [
      "tensor([373.])\n",
      "tensor([ 4.0000,  1.0000, 11.0000, 19.0000,  0.0000,  4.0000,  1.0000,  1.0000,\n",
      "         0.3800,  0.3939,  0.2700,  0.3582])\n"
     ]
    }
   ],
   "source": [
    "dataset = Bicicletinha('bike_train.csv')\n",
    "dado, rotulo = dataset[0]\n",
    "print(rotulo)\n",
    "print(dado)"
   ]
  },
  {
   "cell_type": "markdown",
   "metadata": {
    "colab_type": "text",
    "id": "CwS8q0l0v8cP"
   },
   "source": [
    "### Construindo conjuntos de treino e teste"
   ]
  },
  {
   "cell_type": "code",
   "execution_count": 6,
   "metadata": {
    "colab": {
     "base_uri": "https://localhost:8080/",
     "height": 51
    },
    "colab_type": "code",
    "id": "G8nAUzhxUlrZ",
    "outputId": "344cf7b1-8650-42d0-a941-472a05b53921"
   },
   "outputs": [
    {
     "name": "stdout",
     "output_type": "stream",
     "text": [
      "Tamanho do treino: 13903 amostras\n",
      "Tamanho do teste: 3476 amostras\n"
     ]
    }
   ],
   "source": [
    "train_set = Bicicletinha('bike_train.csv')\n",
    "test_set  = Bicicletinha('bike_test.csv')\n",
    "\n",
    "print('Tamanho do treino: ' + str(len(train_set)) + ' amostras')\n",
    "print('Tamanho do teste: ' + str(len(test_set)) + ' amostras')"
   ]
  },
  {
   "cell_type": "markdown",
   "metadata": {
    "colab_type": "text",
    "id": "yZq6iuq6lQ9N"
   },
   "source": [
    "## Dataloader\n"
   ]
  },
  {
   "cell_type": "code",
   "execution_count": 7,
   "metadata": {
    "colab": {},
    "colab_type": "code",
    "id": "xuETOc64MynK"
   },
   "outputs": [],
   "source": [
    "# Criando dataloader\n",
    "train_loader = DataLoader(train_set,\n",
    "                          args['batch_size'],\n",
    "                          num_workers=args['num_workers'],\n",
    "                          shuffle=True)\n",
    "test_loader = DataLoader(test_set,\n",
    "                         args['batch_size'],\n",
    "                         num_workers=args['num_workers'],\n",
    "                         shuffle=False)"
   ]
  },
  {
   "cell_type": "markdown",
   "metadata": {
    "colab_type": "text",
    "id": "m_wBx0Uesrgu"
   },
   "source": [
    "O objeto retornado é um **iterador**, podendo ser utilizado para iterar em loops mas não suportando indexação."
   ]
  },
  {
   "cell_type": "code",
   "execution_count": null,
   "metadata": {
    "colab": {
     "base_uri": "https://localhost:8080/",
     "height": 51
    },
    "colab_type": "code",
    "id": "6zw1aAcsVCyp",
    "outputId": "9f65eed9-0aec-4849-fd61-6f1c5f9b5f55"
   },
   "outputs": [],
   "source": [
    "for batch in test_loader:\n",
    "  \n",
    "  dado, rotulo = batch\n",
    "  print('## Dimensionalidade do batch ##')\n",
    "  print(dado.size(), rotulo.size())\n",
    "  \n",
    "  break"
   ]
  },
  {
   "cell_type": "markdown",
   "metadata": {
    "colab_type": "text",
    "id": "jPCE1MC8yf02"
   },
   "source": [
    "## Implementando o MLP\n",
    "\n",
    "Essa parte aqui você já tira de letra! Minha sugestão é construir um modelo com:\n",
    "\n",
    "* **Duas camadas escondidas**. Lembre-se de alternar as camadas com ativações não-lineares. \n",
    "* Uma camada de saída (com qual ativação?)"
   ]
  },
  {
   "cell_type": "code",
   "execution_count": null,
   "metadata": {
    "colab": {
     "base_uri": "https://localhost:8080/",
     "height": 221
    },
    "colab_type": "code",
    "id": "n-9spUHCUzBm",
    "outputId": "ff71e483-f77b-4086-feac-a60be74625a5"
   },
   "outputs": [],
   "source": [
    "class MLP(nn.Module):\n",
    "  \n",
    "  def __init__(self, input_size, hidden_size, out_size):\n",
    "    super(MLP, self).__init__()\n",
    "    \n",
    "    self.features = nn.Sequential(\n",
    "          nn.Linear(input_size, hidden_size),\n",
    "          nn.ReLU(),\n",
    "          nn.Linear(hidden_size, hidden_size),\n",
    "          nn.ReLU(),\n",
    "    )\n",
    "    \n",
    "    self.classifier = nn.Sequential(\n",
    "        nn.Linear(hidden_size, out_size),\n",
    "        nn.ReLU(),\n",
    "    )\n",
    "\n",
    "  def forward(self, X):\n",
    "    \n",
    "    hidden = self.features(X)\n",
    "    output = self.classifier(hidden)\n",
    "    \n",
    "    return output\n",
    "\n",
    "input_size  = train_set[0][0].size(0)\n",
    "hidden_size = 128\n",
    "out_size    = 1\n",
    "\n",
    "net = MLP(input_size, hidden_size, out_size).to(args['device'])\n",
    "print(net)"
   ]
  },
  {
   "cell_type": "markdown",
   "metadata": {
    "colab_type": "text",
    "id": "sb7zTsWV1cyQ"
   },
   "source": [
    "## Definindo loss e otimizador\n",
    "\n",
    "Se lembra quais as funções de perda adequadas para um problema de regressão?"
   ]
  },
  {
   "cell_type": "code",
   "execution_count": null,
   "metadata": {
    "colab": {},
    "colab_type": "code",
    "id": "nx4MecnX1e2E"
   },
   "outputs": [],
   "source": [
    "criterion = nn.L1Loss().to(args['device'])\n",
    "\n",
    "optimizer = optim.Adam(net.parameters(), lr=args['lr'], weight_decay=args['weight_decay'])"
   ]
  },
  {
   "cell_type": "markdown",
   "metadata": {
    "colab_type": "text",
    "id": "1ujnT7rl0bjg"
   },
   "source": [
    "# Fluxo de Treinamento & Validação\n",
    "\n",
    "## Treinamento\n",
    "\n",
    "Relembrando o passo a passo do fluxo de treinamento:\n",
    "* Iterar nas épocas\n",
    "* Iterar nos batches\n",
    "* Cast dos dados no dispositivo de hardware\n",
    "* Forward na rede e cálculo da loss\n",
    "* Cálculo do gradiente e atualização dos pesos\n",
    "\n",
    "Esse conjunto de passos é responsável pelo processo iterativo de otimização de uma rede. **A validação** por outro lado, é apenas a aplicação da rede em dados nunca antes visto para estimar a qualidade do modelo no mundo real.\n",
    "\n",
    "## Validação\n",
    "\n",
    "Para essa etapa, o PyTorch oferece dois artifícios:\n",
    "* ```model.eval()```: Impacta no *forward* da rede, informando as camadas caso seu comportamento mude entre fluxos (ex: dropout).\n",
    "* ```with torch.no_grad()```: Gerenciador de contexto que desabilita o cálculo e armazenamento de gradientes (economia de tempo e memória). Todo o código de validação deve ser executado dentro desse contexto.\n",
    "\n",
    "Exemplo de código para validação\n",
    "\n",
    "```python\n",
    "net.eval()\n",
    "with torch.no_grad():\n",
    "  for batch in test_loader:\n",
    "      # Código de validação\n",
    "```\n",
    "\n",
    "Existe o equivalente ao ```model.eval()``` para explicitar que a sua rede deve estar em modo de treino, é o ```model.train()```. Apesar de ser o padrão dos modelos, é boa prática definir também o modo de treinamento."
   ]
  },
  {
   "cell_type": "code",
   "execution_count": null,
   "metadata": {
    "colab": {},
    "colab_type": "code",
    "id": "BUwXgLyM4V2T"
   },
   "outputs": [],
   "source": [
    "def train(train_loader, net, epoch):\n",
    "\n",
    "  # Training mode\n",
    "  net.train()\n",
    "  \n",
    "  start = time.time()\n",
    "  \n",
    "  epoch_loss  = []\n",
    "  for batch in train_loader:\n",
    "    \n",
    "    dado, rotulo = batch\n",
    "    \n",
    "    # Cast do dado na GPU\n",
    "    dado = dado.to(args['device'])\n",
    "    rotulo = rotulo.to(args['device'])\n",
    "    \n",
    "    # Forward\n",
    "    ypred = net(dado)\n",
    "    loss = criterion(ypred, rotulo)\n",
    "    epoch_loss.append(loss.cpu().data)\n",
    "    \n",
    "    # Backpropagation\n",
    "    loss.backward()\n",
    "    optimizer.step()\n",
    "   \n",
    "  epoch_loss = np.asarray(epoch_loss)\n",
    "  \n",
    "  end = time.time()\n",
    "  print('#################### Train ####################')\n",
    "  print('Epoch %d, Loss: %.4f +/- %.4f, Time: %.2f' % (epoch, epoch_loss.mean(), epoch_loss.std(), end-start))\n",
    "  \n",
    "  return epoch_loss.mean()\n",
    "    "
   ]
  },
  {
   "cell_type": "code",
   "execution_count": null,
   "metadata": {
    "colab": {},
    "colab_type": "code",
    "id": "79KDmwyL4l89"
   },
   "outputs": [],
   "source": [
    "def validate(test_loader, net, epoch):\n",
    "\n",
    "  # Evaluation mode\n",
    "  net.eval()\n",
    "  \n",
    "  start = time.time()\n",
    "  \n",
    "  epoch_loss  = []\n",
    "  \n",
    "  with torch.no_grad(): \n",
    "    for batch in test_loader:\n",
    "\n",
    "      dado, rotulo = batch\n",
    "\n",
    "      # Cast do dado na GPU\n",
    "      dado = dado.to(args['device'])\n",
    "      rotulo = rotulo.to(args['device'])\n",
    "\n",
    "      # Forward\n",
    "      ypred = net(dado)\n",
    "      loss = criterion(ypred, rotulo)\n",
    "      epoch_loss.append(loss.cpu().data)\n",
    "\n",
    "  epoch_loss = np.asarray(epoch_loss)\n",
    "  \n",
    "  end = time.time()\n",
    "  print('********** Validate **********')\n",
    "  print('Epoch %d, Loss: %.4f +/- %.4f, Time: %.2f\\n' % (epoch, epoch_loss.mean(), epoch_loss.std(), end-start))\n",
    "  \n",
    "  return epoch_loss.mean()\n",
    "    "
   ]
  },
  {
   "cell_type": "code",
   "execution_count": null,
   "metadata": {
    "colab": {
     "base_uri": "https://localhost:8080/",
     "height": 1000
    },
    "colab_type": "code",
    "id": "95dKe7by6Qot",
    "outputId": "e48a5af3-413a-4e41-bf06-5abc79915450"
   },
   "outputs": [],
   "source": [
    "train_losses, test_losses = [], []\n",
    "for epoch in range(args['epoch_num']):\n",
    "  \n",
    "  # Train\n",
    "  train_losses.append(train(train_loader, net, epoch))\n",
    "  \n",
    "  # Validate\n",
    "  test_losses.append(validate(test_loader, net, epoch))"
   ]
  },
  {
   "cell_type": "code",
   "execution_count": null,
   "metadata": {
    "colab": {
     "base_uri": "https://localhost:8080/",
     "height": 669
    },
    "colab_type": "code",
    "id": "FqTmpWzUV40g",
    "outputId": "4e0e2263-9acc-47b3-8e9f-aeaacb7d08a0"
   },
   "outputs": [],
   "source": [
    "Xtest = torch.stack([tup[0] for tup in test_set])\n",
    "Xtest = Xtest.to(args['device'])\n",
    "\n",
    "ytest = torch.stack([tup[1] for tup in test_set])\n",
    "ypred = net(Xtest).cpu().data\n",
    "\n",
    "data = torch.cat((ytest, ypred), axis=1)\n",
    "\n",
    "df_results = pd.DataFrame(data, columns=['ypred', 'ytest'])\n",
    "df_results.head(20)"
   ]
  },
  {
   "cell_type": "markdown",
   "metadata": {
    "colab_type": "text",
    "id": "8I5L8uae15qz"
   },
   "source": [
    "# Gráfico de convergência"
   ]
  },
  {
   "cell_type": "code",
   "execution_count": null,
   "metadata": {
    "colab": {
     "base_uri": "https://localhost:8080/",
     "height": 594
    },
    "colab_type": "code",
    "id": "LDM-Iki543ID",
    "outputId": "c8787fdd-ff72-4aab-ec02-49bc13841f6c"
   },
   "outputs": [],
   "source": [
    "plt.figure(figsize=(20, 9))\n",
    "plt.plot(train_losses, label='Train')\n",
    "plt.plot(test_losses, label='Test', linewidth=3, alpha=0.5)\n",
    "plt.xlabel('Epochs', fontsize=16)\n",
    "plt.ylabel('Loss', fontsize=16)\n",
    "plt.title('Convergence', fontsize=16)\n",
    "plt.legend()\n",
    "plt.show()"
   ]
  },
  {
   "cell_type": "code",
   "execution_count": null,
   "metadata": {},
   "outputs": [],
   "source": []
  }
 ],
 "metadata": {
  "accelerator": "GPU",
  "colab": {
   "collapsed_sections": [],
   "name": "Carregamento de Dados II.ipynb",
   "provenance": []
  },
  "kernelspec": {
   "display_name": "Python 3 (ipykernel)",
   "language": "python",
   "name": "python3"
  },
  "language_info": {
   "codemirror_mode": {
    "name": "ipython",
    "version": 3
   },
   "file_extension": ".py",
   "mimetype": "text/x-python",
   "name": "python",
   "nbconvert_exporter": "python",
   "pygments_lexer": "ipython3",
   "version": "3.9.13"
  }
 },
 "nbformat": 4,
 "nbformat_minor": 1
}
